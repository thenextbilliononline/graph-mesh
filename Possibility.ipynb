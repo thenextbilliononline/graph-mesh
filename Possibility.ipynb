{
 "cells": [
  {
   "cell_type": "markdown",
   "metadata": {},
   "source": [
    "# Possible TDMA Implementation"
   ]
  },
  {
   "cell_type": "markdown",
   "metadata": {},
   "source": [
    "1. Switch from CSMA mode by some group decision\n",
    "2. Elect Leader in distributed manner (wave relay is possible lead)\n",
    "3. No need to figure out topology quickly-- minutes are ok rather than seconds.\n",
    "4. Must handle failure (can be slow)\n",
    "5. Must self-allocate time slot\n",
    "6. Must have dead time-slot to allow for new members\n",
    "7. Time slots do not have to be the same size (as determined by community).\n",
    "8. Use neighbor graph to assign a mapping size limit to the maximum one-hop neighborhood\n",
    "9. Pulse is sent by coordinator at time = 0. \n",
    "10. Using the 4-color theorem and well-known coloring theorems, we can aportion times to speak"
   ]
  },
  {
   "cell_type": "markdown",
   "metadata": {},
   "source": [
    "# How to choose a Coordinator\n",
    "\n",
    "##  Link Quality Considerations\n",
    "## Centrality\n",
    "## Clustering Coefficient\n",
    "## Connectedness\n",
    "## Node Influence"
   ]
  },
  {
   "cell_type": "markdown",
   "metadata": {},
   "source": [
    "# How to join in TDMA mode\n",
    "\n",
    "1. Injecet noise to make group back to  CSMA, need to disable CSMA ack of packages to work\n",
    "2. Have a blank space in TDMA allocated for new nodes to join. The CSMA new members need to use this space with random backoff as in CSMA to be able to join\n",
    "3. All nodes sense new beacons, and report at a higher level during their regular TDMA slot, use group sense to allow edge node to CSMA to new node on it’s TDMA slot (so no noise will collide)."
   ]
  },
  {
   "cell_type": "markdown",
   "metadata": {},
   "source": [
    "When to enter TDMA (and exit)\n",
    "- CSMA collision ratio, and if the interference come from the group.  \n",
    "- At a higher level share TDMA capability,  \n",
    "    - if and only if the entire group can TDMA then allow switching    agree on the threshold  \n",
    "- group agrees on quiet “sensing”, times before switching to TDMA: times where all of them shut up and listen in order to detect if the interference is coming from the group or from outside."
   ]
  },
  {
   "cell_type": "code",
   "execution_count": null,
   "metadata": {},
   "outputs": [],
   "source": []
  }
 ],
 "metadata": {
  "kernelspec": {
   "display_name": "Python 3",
   "language": "python",
   "name": "python3"
  },
  "language_info": {
   "codemirror_mode": {
    "name": "ipython",
    "version": 3
   },
   "file_extension": ".py",
   "mimetype": "text/x-python",
   "name": "python",
   "nbconvert_exporter": "python",
   "pygments_lexer": "ipython3",
   "version": "3.6.5"
  }
 },
 "nbformat": 4,
 "nbformat_minor": 2
}
