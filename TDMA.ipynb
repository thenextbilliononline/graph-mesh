{
 "cells": [
  {
   "cell_type": "markdown",
   "metadata": {},
   "source": [
    "## Methods of Implementation\n",
    "### GPS-base Synchonization\n",
    "\n",
    "#### Everyone?\n",
    "#### Key Nodes\n",
    "\n",
    "### Pulse Synchronization\n",
    "\n",
    "#### Who controls?\n",
    "#### Consensus?"
   ]
  },
  {
   "cell_type": "markdown",
   "metadata": {},
   "source": [
    "## Real-Network Concerns\n",
    "\n",
    "### When to Initiate TDMA\n",
    "\n",
    "#### Packet-loss Ratio\n",
    "\n",
    "#### Link Quality Loss\n",
    "\n",
    "### Hidden Node Problem\n",
    "\n",
    "### Scale\n",
    "\n",
    "### Noise"
   ]
  },
  {
   "cell_type": "markdown",
   "metadata": {},
   "source": [
    "## Future Work"
   ]
  },
  {
   "cell_type": "code",
   "execution_count": null,
   "metadata": {},
   "outputs": [],
   "source": []
  }
 ],
 "metadata": {
  "kernelspec": {
   "display_name": "Python 3",
   "language": "python",
   "name": "python3"
  },
  "language_info": {
   "codemirror_mode": {
    "name": "ipython",
    "version": 3
   },
   "file_extension": ".py",
   "mimetype": "text/x-python",
   "name": "python",
   "nbconvert_exporter": "python",
   "pygments_lexer": "ipython3",
   "version": "3.6.5"
  }
 },
 "nbformat": 4,
 "nbformat_minor": 2
}
